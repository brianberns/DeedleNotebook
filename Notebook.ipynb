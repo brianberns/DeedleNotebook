{
 "cells": [
  {
   "cell_type": "code",
   "execution_count": 5,
   "id": "70a4c5da-9647-410b-89e0-f4748220d98d",
   "metadata": {},
   "outputs": [
    {
     "data": {
      "text/html": [
       "<div><div></div><div></div><div><strong>Installed Packages</strong><ul><li><span>Deedle, 2.5.0</span></li><li><span>FSharp.Charting, 2.1.0</span></li></ul></div></div>"
      ]
     },
     "metadata": {},
     "output_type": "display_data"
    },
    {
     "data": {
      "text/plain": [
       "series [ 1/1/2013 12:00:00 AM => 10; 1/4/2013 12:00:00 AM => 20; 1/8/2013 12:00:00 AM => 30]\n"
      ]
     },
     "execution_count": 5,
     "metadata": {},
     "output_type": "execute_result"
    }
   ],
   "source": [
    "#r \"nuget:Deedle\"\n",
    "#r \"nuget:FSharp.Charting\"\n",
    "\n",
    "open System\n",
    "open Deedle\n",
    "open FSharp.Charting\n",
    "\n",
    "let dates = [ \n",
    "    DateTime(2013, 1, 1);\n",
    "    DateTime(2013, 1, 4);\n",
    "    DateTime(2013, 1, 8); ]\n",
    "\n",
    "let values = [ 10.0; 20.0; 30.0 ]\n",
    "\n",
    "let first = Series(dates, values)\n",
    "\n",
    "Formatter.SetPreferredMimeTypesFor(typeof<obj>, \"text/plain\")\n",
    "Formatter.Register(fun (x:obj) (writer: TextWriter) -> fprintfn writer \"%120A\" x )\n",
    "\n",
    "first"
   ]
  },
  {
   "cell_type": "code",
   "execution_count": null,
   "id": "29a32780-e503-4d03-9b9f-8ce81e2ad363",
   "metadata": {},
   "outputs": [],
   "source": []
  }
 ],
 "metadata": {
  "kernelspec": {
   "display_name": ".NET (F#)",
   "language": "F#",
   "name": ".net-fsharp"
  },
  "language_info": {
   "file_extension": ".fs",
   "mimetype": "text/x-fsharp",
   "name": "F#",
   "pygments_lexer": "fsharp",
   "version": "5.0"
  }
 },
 "nbformat": 4,
 "nbformat_minor": 5
}
